{
 "cells": [
  {
   "cell_type": "code",
   "execution_count": 116,
   "metadata": {},
   "outputs": [],
   "source": [
    "import pandas as pd\n",
    "import requests\n",
    "from config import data as userdata\n",
    "import os\n",
    "import time"
   ]
  },
  {
   "cell_type": "code",
   "execution_count": null,
   "metadata": {},
   "outputs": [],
   "source": []
  },
  {
   "cell_type": "code",
   "execution_count": null,
   "metadata": {},
   "outputs": [],
   "source": []
  },
  {
   "cell_type": "code",
   "execution_count": 112,
   "metadata": {},
   "outputs": [],
   "source": [
    "def getRealTimeData(city='bj', datatype='airquality', day='2018-04-01'):\n",
    "    datadir = './realTimeData'\n",
    "    if not os.path.isdir(datadir):\n",
    "        os.mkdir(datadir)\n",
    "    url = 'https://biendata.com/competition/' + datatype + '/' + city +  '/' + day + '-0/' + day + '-23/2k0d1d8'\n",
    "    filename = datadir + \"/\" + city + '_' + datatype + '_' + day + '.csv'\n",
    "    if os.path.exists(filename):\n",
    "        return filename\n",
    "    responses= requests.get(url)\n",
    "    if responses.text[0] != '{':\n",
    "        with open(filename,'w') as f:\n",
    "            f.write(responses.text)\n",
    "        return filename\n",
    "    else:\n",
    "        print('error:\\n',responses.text)\n",
    "        return ''"
   ]
  },
  {
   "cell_type": "code",
   "execution_count": 40,
   "metadata": {},
   "outputs": [
    {
     "data": {
      "text/plain": [
       "'./realTimeData/bj_airquality_2018-04-13.csv'"
      ]
     },
     "execution_count": 40,
     "metadata": {},
     "output_type": "execute_result"
    }
   ],
   "source": [
    "getRealTimeData(day='2018-04-13')"
   ]
  },
  {
   "cell_type": "code",
   "execution_count": 26,
   "metadata": {},
   "outputs": [
    {
     "data": {
      "text/html": [
       "<div>\n",
       "<style scoped>\n",
       "    .dataframe tbody tr th:only-of-type {\n",
       "        vertical-align: middle;\n",
       "    }\n",
       "\n",
       "    .dataframe tbody tr th {\n",
       "        vertical-align: top;\n",
       "    }\n",
       "\n",
       "    .dataframe thead th {\n",
       "        text-align: right;\n",
       "    }\n",
       "</style>\n",
       "<table border=\"1\" class=\"dataframe\">\n",
       "  <thead>\n",
       "    <tr style=\"text-align: right;\">\n",
       "      <th></th>\n",
       "      <th>id</th>\n",
       "      <th>station_id</th>\n",
       "      <th>time</th>\n",
       "      <th>PM25_Concentration</th>\n",
       "      <th>PM10_Concentration</th>\n",
       "      <th>NO2_Concentration</th>\n",
       "      <th>CO_Concentration</th>\n",
       "      <th>O3_Concentration</th>\n",
       "      <th>SO2_Concentration</th>\n",
       "    </tr>\n",
       "  </thead>\n",
       "  <tbody>\n",
       "    <tr>\n",
       "      <th>0</th>\n",
       "      <td>2942426</td>\n",
       "      <td>dongsi_aq</td>\n",
       "      <td>2018-04-01 02:00:00</td>\n",
       "      <td>259.0</td>\n",
       "      <td>NaN</td>\n",
       "      <td>98.0</td>\n",
       "      <td>3.4</td>\n",
       "      <td>56.0</td>\n",
       "      <td>57.0</td>\n",
       "    </tr>\n",
       "    <tr>\n",
       "      <th>1</th>\n",
       "      <td>2942427</td>\n",
       "      <td>tiantan_aq</td>\n",
       "      <td>2018-04-01 02:00:00</td>\n",
       "      <td>250.0</td>\n",
       "      <td>NaN</td>\n",
       "      <td>95.0</td>\n",
       "      <td>3.1</td>\n",
       "      <td>64.0</td>\n",
       "      <td>28.0</td>\n",
       "    </tr>\n",
       "    <tr>\n",
       "      <th>2</th>\n",
       "      <td>2942428</td>\n",
       "      <td>guanyuan_aq</td>\n",
       "      <td>2018-04-01 02:00:00</td>\n",
       "      <td>240.0</td>\n",
       "      <td>246.0</td>\n",
       "      <td>107.0</td>\n",
       "      <td>2.2</td>\n",
       "      <td>49.0</td>\n",
       "      <td>30.0</td>\n",
       "    </tr>\n",
       "    <tr>\n",
       "      <th>3</th>\n",
       "      <td>2942429</td>\n",
       "      <td>wanshouxigong_aq</td>\n",
       "      <td>2018-04-01 02:00:00</td>\n",
       "      <td>255.0</td>\n",
       "      <td>260.0</td>\n",
       "      <td>87.0</td>\n",
       "      <td>2.5</td>\n",
       "      <td>65.0</td>\n",
       "      <td>35.0</td>\n",
       "    </tr>\n",
       "    <tr>\n",
       "      <th>4</th>\n",
       "      <td>2942430</td>\n",
       "      <td>aotizhongxin_aq</td>\n",
       "      <td>2018-04-01 02:00:00</td>\n",
       "      <td>266.0</td>\n",
       "      <td>NaN</td>\n",
       "      <td>111.0</td>\n",
       "      <td>3.5</td>\n",
       "      <td>45.0</td>\n",
       "      <td>57.0</td>\n",
       "    </tr>\n",
       "  </tbody>\n",
       "</table>\n",
       "</div>"
      ],
      "text/plain": [
       "        id        station_id                 time  PM25_Concentration  \\\n",
       "0  2942426         dongsi_aq  2018-04-01 02:00:00               259.0   \n",
       "1  2942427        tiantan_aq  2018-04-01 02:00:00               250.0   \n",
       "2  2942428       guanyuan_aq  2018-04-01 02:00:00               240.0   \n",
       "3  2942429  wanshouxigong_aq  2018-04-01 02:00:00               255.0   \n",
       "4  2942430   aotizhongxin_aq  2018-04-01 02:00:00               266.0   \n",
       "\n",
       "   PM10_Concentration  NO2_Concentration  CO_Concentration  O3_Concentration  \\\n",
       "0                 NaN               98.0               3.4              56.0   \n",
       "1                 NaN               95.0               3.1              64.0   \n",
       "2               246.0              107.0               2.2              49.0   \n",
       "3               260.0               87.0               2.5              65.0   \n",
       "4                 NaN              111.0               3.5              45.0   \n",
       "\n",
       "   SO2_Concentration  \n",
       "0               57.0  \n",
       "1               28.0  \n",
       "2               30.0  \n",
       "3               35.0  \n",
       "4               57.0  "
      ]
     },
     "execution_count": 26,
     "metadata": {},
     "output_type": "execute_result"
    }
   ],
   "source": [
    "bjdata = pd.read_csv(\"bj_airquality_2018-04-01-0-2018-04-01-23.csv\")\n",
    "bjdata.head()"
   ]
  },
  {
   "cell_type": "markdown",
   "metadata": {},
   "source": [
    "# 輸出答案\n",
    "\n",
    "要預測未來兩天 48小時 的 PM2.5 PM10 O3 \n",
    "\n",
    "> 我想 4/11 送答案就是預測 4/12 ~ 4/13 的空氣品質\n",
    "\n",
    "總共有 48 個點的數值需要預測\n",
    "\n",
    "每個點要有 48 個小時的資料\n",
    "\n",
    "站點包含 北京與倫敦 的點\n",
    "\n",
    "id 格式 站點名#hours"
   ]
  },
  {
   "cell_type": "code",
   "execution_count": 123,
   "metadata": {},
   "outputs": [
    {
     "name": "stdout",
     "output_type": "stream",
     "text": [
      "(2304, 4)\n"
     ]
    },
    {
     "data": {
      "text/html": [
       "<div>\n",
       "<style scoped>\n",
       "    .dataframe tbody tr th:only-of-type {\n",
       "        vertical-align: middle;\n",
       "    }\n",
       "\n",
       "    .dataframe tbody tr th {\n",
       "        vertical-align: top;\n",
       "    }\n",
       "\n",
       "    .dataframe thead th {\n",
       "        text-align: right;\n",
       "    }\n",
       "</style>\n",
       "<table border=\"1\" class=\"dataframe\">\n",
       "  <thead>\n",
       "    <tr style=\"text-align: right;\">\n",
       "      <th></th>\n",
       "      <th>test_id</th>\n",
       "      <th>PM2.5</th>\n",
       "      <th>PM10</th>\n",
       "      <th>O3</th>\n",
       "    </tr>\n",
       "  </thead>\n",
       "  <tbody>\n",
       "    <tr>\n",
       "      <th>0</th>\n",
       "      <td>dongsi_aq#0</td>\n",
       "      <td>0</td>\n",
       "      <td>0</td>\n",
       "      <td>0</td>\n",
       "    </tr>\n",
       "    <tr>\n",
       "      <th>1</th>\n",
       "      <td>dongsi_aq#1</td>\n",
       "      <td>0</td>\n",
       "      <td>0</td>\n",
       "      <td>0</td>\n",
       "    </tr>\n",
       "    <tr>\n",
       "      <th>2</th>\n",
       "      <td>dongsi_aq#2</td>\n",
       "      <td>0</td>\n",
       "      <td>0</td>\n",
       "      <td>0</td>\n",
       "    </tr>\n",
       "    <tr>\n",
       "      <th>3</th>\n",
       "      <td>dongsi_aq#3</td>\n",
       "      <td>0</td>\n",
       "      <td>0</td>\n",
       "      <td>0</td>\n",
       "    </tr>\n",
       "    <tr>\n",
       "      <th>4</th>\n",
       "      <td>dongsi_aq#4</td>\n",
       "      <td>0</td>\n",
       "      <td>0</td>\n",
       "      <td>0</td>\n",
       "    </tr>\n",
       "  </tbody>\n",
       "</table>\n",
       "</div>"
      ],
      "text/plain": [
       "       test_id  PM2.5  PM10  O3\n",
       "0  dongsi_aq#0      0     0   0\n",
       "1  dongsi_aq#1      0     0   0\n",
       "2  dongsi_aq#2      0     0   0\n",
       "3  dongsi_aq#3      0     0   0\n",
       "4  dongsi_aq#4      0     0   0"
      ]
     },
     "execution_count": 123,
     "metadata": {},
     "output_type": "execute_result"
    }
   ],
   "source": [
    "sample = pd.read_csv('sample_submission.csv')\n",
    "print(sample.shape)\n",
    "sample.head()"
   ]
  },
  {
   "cell_type": "code",
   "execution_count": 149,
   "metadata": {},
   "outputs": [
    {
     "name": "stdout",
     "output_type": "stream",
     "text": [
      "       test_id  PM2.5  PM10  O3\n",
      "8  dongsi_aq#8      0     0   0\n"
     ]
    }
   ],
   "source": [
    "sample.loc[sample['test_id'] == 'dongsi_aq#8','PM2.5'] = 0\n",
    "\n",
    "print(sample.loc[sample['test_id'] == 'dongsi_aq#8'])"
   ]
  },
  {
   "cell_type": "code",
   "execution_count": 54,
   "metadata": {},
   "outputs": [
    {
     "name": "stdout",
     "output_type": "stream",
     "text": [
      "48\n",
      "['dongsi_aq', 'tiantan_aq', 'guanyuan_aq', 'wanshouxig_aq', 'aotizhongx_aq', 'nongzhangu_aq', 'wanliu_aq', 'beibuxinqu_aq', 'zhiwuyuan_aq', 'fengtaihua_aq', 'yungang_aq', 'gucheng_aq', 'fangshan_aq', 'daxing_aq', 'yizhuang_aq', 'tongzhou_aq', 'shunyi_aq', 'pingchang_aq', 'mentougou_aq', 'pinggu_aq', 'huairou_aq', 'miyun_aq', 'yanqin_aq', 'dingling_aq', 'badaling_aq', 'miyunshuik_aq', 'donggaocun_aq', 'yongledian_aq', 'yufa_aq', 'liulihe_aq', 'qianmen_aq', 'yongdingme_aq', 'xizhimenbe_aq', 'nansanhuan_aq', 'dongsihuan_aq', 'CD1', 'BL0', 'GR4', 'MY7', 'HV1', 'GN3', 'GR9', 'LW2', 'GN0', 'KF1', 'CD9', 'ST5', 'TH4']\n"
     ]
    }
   ],
   "source": [
    "sample_id = sample['test_id']\n",
    "stations = list()\n",
    "for id in sample_id.iloc[:]:\n",
    "    [station, hours] = id.split('#')\n",
    "    if station not in stations:\n",
    "        stations.append(station)\n",
    "print(len(stations))\n",
    "print(stations)"
   ]
  },
  {
   "cell_type": "code",
   "execution_count": null,
   "metadata": {},
   "outputs": [],
   "source": []
  },
  {
   "cell_type": "code",
   "execution_count": 108,
   "metadata": {},
   "outputs": [
    {
     "name": "stdout",
     "output_type": "stream",
     "text": [
      "35\n",
      "['dongsi_aq', 'tiantan_aq', 'guanyuan_aq', 'wanshouxigong_aq', 'aotizhongxin_aq', 'nongzhanguan_aq', 'wanliu_aq', 'beibuxinqu_aq', 'zhiwuyuan_aq', 'fengtaihuayuan_aq', 'yungang_aq', 'gucheng_aq', 'fangshan_aq', 'daxing_aq', 'yizhuang_aq', 'tongzhou_aq', 'shunyi_aq', 'pingchang_aq', 'mentougou_aq', 'pinggu_aq', 'huairou_aq', 'miyun_aq', 'yanqin_aq', 'dingling_aq', 'badaling_aq', 'miyunshuiku_aq', 'donggaocun_aq', 'yongledian_aq', 'yufa_aq', 'liulihe_aq', 'qianmen_aq', 'yongdingmennei_aq', 'xizhimenbei_aq', 'nansanhuan_aq', 'dongsihuan_aq']\n"
     ]
    }
   ],
   "source": [
    "realdata = pd.read_csv(getRealTimeData(day='2018-04-13'))\n",
    "realdata = realdata['station_id']\n",
    "realdata_stations = list()\n",
    "for station in realdata.iloc[:]:\n",
    "    if station not in realdata_stations:\n",
    "        realdata_stations.append(station)\n",
    "\n",
    "print(len(realdata_stations))\n",
    "print(realdata_stations)"
   ]
  },
  {
   "cell_type": "code",
   "execution_count": 154,
   "metadata": {},
   "outputs": [],
   "source": [
    "def injectAnswer(sample, fromDate, answer):\n",
    "    formatDate = \"%Y-%m-%d %H:%M:%S\"\n",
    "    fromDate = time.mktime(time.strptime(fromDate, formatDate))\n",
    "    [rows, cols] = answer.shape\n",
    "    for i in range(rows):\n",
    "        data = answer.iloc[i]\n",
    "        thisDate = time.mktime(time.strptime(data['time'],formatDate))\n",
    "        thisDate = int((thisDate - fromDate) / (60*60))\n",
    "        thisid = data['station_id'] + '#' + str(thisDate)\n",
    "        sample.loc[sample['test_id'] == thisid, 'PM2.5'] = data['PM25_Concentration']\n",
    "        sample.loc[sample['test_id'] == thisid, 'PM10'] = data['PM10_Concentration']\n",
    "        sample.loc[sample['test_id'] == thisid, 'O3'] = data['O3_Concentration']"
   ]
  },
  {
   "cell_type": "code",
   "execution_count": 159,
   "metadata": {},
   "outputs": [],
   "source": [
    "realdata = pd.read_csv(getRealTimeData(city='ld',day='2018-04-13'))\n",
    "\n",
    "fromDate = '2018-04-12 00:00:00'\n",
    "\n",
    "injectAnswer(sample, fromDate, realdata)"
   ]
  },
  {
   "cell_type": "code",
   "execution_count": 167,
   "metadata": {},
   "outputs": [],
   "source": [
    "sample2 = sample.fillna(sample.mean())\n",
    "sample2[2100:2151]\n",
    "sample2.to_csv('./answer.csv', index=False, header=True)"
   ]
  },
  {
   "cell_type": "code",
   "execution_count": 58,
   "metadata": {},
   "outputs": [
    {
     "name": "stdout",
     "output_type": "stream",
     "text": [
      "19\n",
      "['CD1', 'BL0', 'GR4', 'MY7', 'HV1', 'GN3', 'GR9', 'LW2', 'GN0', 'KF1', 'CD9', 'CT3', 'CT2', 'BX9', 'BX1', 'TH4', 'ST5', 'RB7', 'TD5']\n"
     ]
    }
   ],
   "source": [
    "realdata = pd.read_csv(getRealTimeData(city='ld',day='2018-04-13'))\n",
    "realdata = realdata['station_id']\n",
    "realdata_stations = list()\n",
    "for station in realdata.iloc[:]:\n",
    "    if station not in realdata_stations:\n",
    "        realdata_stations.append(station)\n",
    "\n",
    "print(len(realdata_stations))\n",
    "print(realdata_stations)"
   ]
  },
  {
   "cell_type": "markdown",
   "metadata": {},
   "source": [
    "# 思考策略\n",
    "\n",
    "先考慮如何建立模型\n",
    "\n",
    "輸入是歷史資料, 輸出則是兩天的未來預測\n",
    "\n",
    "考慮到訓練參數出來\n",
    "\n",
    "把一年的歷史資料 分成訓練與測試\n",
    "\n"
   ]
  },
  {
   "cell_type": "code",
   "execution_count": null,
   "metadata": {},
   "outputs": [],
   "source": []
  },
  {
   "cell_type": "markdown",
   "metadata": {},
   "source": [
    "# SMAPE\n",
    "\n",
    "計分方式"
   ]
  },
  {
   "cell_type": "code",
   "execution_count": 59,
   "metadata": {},
   "outputs": [],
   "source": [
    "def SMAPE(actual=list(), forecast=list()):\n",
    "    if len(actual)!=len(forecast):\n",
    "        return 2\n",
    "    \n",
    "    total = 0\n",
    "    for i in range(len(actual)):\n",
    "        tmp = (abs(forecast[i]) + abs(actual[i]))/2\n",
    "        if tmp != 0:\n",
    "            tmp = abs(forecast[i] - actual[i]) / tmp\n",
    "        total += tmp\n",
    "    \n",
    "    return total/len(actual)"
   ]
  },
  {
   "cell_type": "code",
   "execution_count": 61,
   "metadata": {},
   "outputs": [
    {
     "data": {
      "text/plain": [
       "0.5555555555555555"
      ]
     },
     "execution_count": 61,
     "metadata": {},
     "output_type": "execute_result"
    }
   ],
   "source": [
    "SMAPE([1,2,3],[1,1,1])"
   ]
  },
  {
   "cell_type": "code",
   "execution_count": null,
   "metadata": {},
   "outputs": [],
   "source": []
  }
 ],
 "metadata": {
  "kernelspec": {
   "display_name": "Python 3",
   "language": "python",
   "name": "python3"
  },
  "language_info": {
   "codemirror_mode": {
    "name": "ipython",
    "version": 3
   },
   "file_extension": ".py",
   "mimetype": "text/x-python",
   "name": "python",
   "nbconvert_exporter": "python",
   "pygments_lexer": "ipython3",
   "version": "3.6.4"
  }
 },
 "nbformat": 4,
 "nbformat_minor": 2
}
