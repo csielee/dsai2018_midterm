{
 "cells": [
  {
   "cell_type": "code",
   "execution_count": 1,
   "metadata": {},
   "outputs": [],
   "source": [
    "import pandas as pd\n",
    "import requests\n",
    "from config import data as userdata\n",
    "import os\n",
    "import time\n",
    "import numpy as np"
   ]
  },
  {
   "cell_type": "markdown",
   "metadata": {},
   "source": [
    "# 使用 API 取得實時資料"
   ]
  },
  {
   "cell_type": "code",
   "execution_count": 2,
   "metadata": {},
   "outputs": [],
   "source": [
    "def getRealTimeData(city='bj', datatype='airquality', day='2018-04-01',force=False):\n",
    "    datadir = './realTimeData'\n",
    "    if not os.path.isdir(datadir):\n",
    "        os.mkdir(datadir)\n",
    "    url = 'https://biendata.com/competition/' + datatype + '/' + city +  '/' + day + '-0/' + day + '-23/2k0d1d8'\n",
    "    filename = datadir + \"/\" + city + '_' + datatype + '_' + day + '.csv'\n",
    "    if not force and os.path.exists(filename):\n",
    "        return filename\n",
    "    responses= requests.get(url)\n",
    "    if responses.text[0] != '{':\n",
    "        with open(filename,'w') as f:\n",
    "            f.write(responses.text)\n",
    "        return filename\n",
    "    else:\n",
    "        print('error:\\n',responses.text)\n",
    "        return ''"
   ]
  },
  {
   "cell_type": "code",
   "execution_count": 3,
   "metadata": {},
   "outputs": [
    {
     "name": "stdout",
     "output_type": "stream",
     "text": [
      "./realTimeData/bj_airquality_2018-04-13.csv\n"
     ]
    },
    {
     "data": {
      "text/html": [
       "<div>\n",
       "<style scoped>\n",
       "    .dataframe tbody tr th:only-of-type {\n",
       "        vertical-align: middle;\n",
       "    }\n",
       "\n",
       "    .dataframe tbody tr th {\n",
       "        vertical-align: top;\n",
       "    }\n",
       "\n",
       "    .dataframe thead th {\n",
       "        text-align: right;\n",
       "    }\n",
       "</style>\n",
       "<table border=\"1\" class=\"dataframe\">\n",
       "  <thead>\n",
       "    <tr style=\"text-align: right;\">\n",
       "      <th></th>\n",
       "      <th>id</th>\n",
       "      <th>station_id</th>\n",
       "      <th>time</th>\n",
       "      <th>PM25_Concentration</th>\n",
       "      <th>PM10_Concentration</th>\n",
       "      <th>NO2_Concentration</th>\n",
       "      <th>CO_Concentration</th>\n",
       "      <th>O3_Concentration</th>\n",
       "      <th>SO2_Concentration</th>\n",
       "    </tr>\n",
       "  </thead>\n",
       "  <tbody>\n",
       "    <tr>\n",
       "      <th>0</th>\n",
       "      <td>2957584</td>\n",
       "      <td>dongsi_aq</td>\n",
       "      <td>2018-04-13 00:00:00</td>\n",
       "      <td>44.0</td>\n",
       "      <td>120.0</td>\n",
       "      <td>74.0</td>\n",
       "      <td>1.7</td>\n",
       "      <td>20.0</td>\n",
       "      <td>32.0</td>\n",
       "    </tr>\n",
       "    <tr>\n",
       "      <th>1</th>\n",
       "      <td>2957585</td>\n",
       "      <td>tiantan_aq</td>\n",
       "      <td>2018-04-13 00:00:00</td>\n",
       "      <td>47.0</td>\n",
       "      <td>107.0</td>\n",
       "      <td>76.0</td>\n",
       "      <td>1.8</td>\n",
       "      <td>13.0</td>\n",
       "      <td>16.0</td>\n",
       "    </tr>\n",
       "    <tr>\n",
       "      <th>2</th>\n",
       "      <td>2957586</td>\n",
       "      <td>guanyuan_aq</td>\n",
       "      <td>2018-04-13 00:00:00</td>\n",
       "      <td>41.0</td>\n",
       "      <td>110.0</td>\n",
       "      <td>73.0</td>\n",
       "      <td>1.6</td>\n",
       "      <td>27.0</td>\n",
       "      <td>26.0</td>\n",
       "    </tr>\n",
       "    <tr>\n",
       "      <th>3</th>\n",
       "      <td>2957587</td>\n",
       "      <td>wanshouxigong_aq</td>\n",
       "      <td>2018-04-13 00:00:00</td>\n",
       "      <td>38.0</td>\n",
       "      <td>128.0</td>\n",
       "      <td>69.0</td>\n",
       "      <td>1.8</td>\n",
       "      <td>13.0</td>\n",
       "      <td>21.0</td>\n",
       "    </tr>\n",
       "    <tr>\n",
       "      <th>4</th>\n",
       "      <td>2957588</td>\n",
       "      <td>aotizhongxin_aq</td>\n",
       "      <td>2018-04-13 00:00:00</td>\n",
       "      <td>41.0</td>\n",
       "      <td>120.0</td>\n",
       "      <td>78.0</td>\n",
       "      <td>1.7</td>\n",
       "      <td>25.0</td>\n",
       "      <td>24.0</td>\n",
       "    </tr>\n",
       "  </tbody>\n",
       "</table>\n",
       "</div>"
      ],
      "text/plain": [
       "        id        station_id                 time  PM25_Concentration  \\\n",
       "0  2957584         dongsi_aq  2018-04-13 00:00:00                44.0   \n",
       "1  2957585        tiantan_aq  2018-04-13 00:00:00                47.0   \n",
       "2  2957586       guanyuan_aq  2018-04-13 00:00:00                41.0   \n",
       "3  2957587  wanshouxigong_aq  2018-04-13 00:00:00                38.0   \n",
       "4  2957588   aotizhongxin_aq  2018-04-13 00:00:00                41.0   \n",
       "\n",
       "   PM10_Concentration  NO2_Concentration  CO_Concentration  O3_Concentration  \\\n",
       "0               120.0               74.0               1.7              20.0   \n",
       "1               107.0               76.0               1.8              13.0   \n",
       "2               110.0               73.0               1.6              27.0   \n",
       "3               128.0               69.0               1.8              13.0   \n",
       "4               120.0               78.0               1.7              25.0   \n",
       "\n",
       "   SO2_Concentration  \n",
       "0               32.0  \n",
       "1               16.0  \n",
       "2               26.0  \n",
       "3               21.0  \n",
       "4               24.0  "
      ]
     },
     "execution_count": 3,
     "metadata": {},
     "output_type": "execute_result"
    }
   ],
   "source": [
    "name = getRealTimeData(day='2018-04-13')\n",
    "print(name)\n",
    "bjdata = pd.read_csv(name)\n",
    "bjdata.head(5)"
   ]
  },
  {
   "cell_type": "markdown",
   "metadata": {},
   "source": [
    "# 取得之前資料"
   ]
  },
  {
   "cell_type": "code",
   "execution_count": 3,
   "metadata": {},
   "outputs": [],
   "source": [
    "previousBjData = pd.read_csv('./beijing_17_18_aq.csv')\n",
    "previousLdData = pd.read_csv('./London_historical_aqi_forecast_stations_20180331.csv')"
   ]
  },
  {
   "cell_type": "code",
   "execution_count": 4,
   "metadata": {},
   "outputs": [],
   "source": [
    "def getPreviousData(thisday, nday=2, city='bj'):\n",
    "    formatDate = \"%Y-%m-%d\"\n",
    "    thisday = time.mktime(time.strptime(thisday, formatDate))\n",
    "\n",
    "    alldays = list()\n",
    "    if city == 'bj':\n",
    "        formatDate = '%Y-%m-%d %H:%M:%S'\n",
    "        pData = previousBjData\n",
    "        column = ['test_id','time','PM2.5','PM10','O3']\n",
    "    elif city == 'ld':\n",
    "        formatDate = '%Y/%m/%d %H:%M'\n",
    "        pData = previousLdData\n",
    "        column = ['test_id','time','PM2.5','PM10']\n",
    "\n",
    "    for i in range(24*nday):\n",
    "        tmp = thisday + i*60*60\n",
    "        if city == 'ld':\n",
    "            tmp = time.localtime(tmp)\n",
    "            days = '%d/%d/%d %d:00' % (tmp.tm_year, tmp.tm_mon, tmp.tm_mday, tmp.tm_hour)\n",
    "        else:\n",
    "            days = time.strftime(formatDate, time.localtime(tmp))\n",
    "        alldays.append(days)\n",
    "    \n",
    "    #print(alldays)\n",
    "    \n",
    "    return pData.loc[pData['time'].isin(alldays),column]"
   ]
  },
  {
   "cell_type": "code",
   "execution_count": 5,
   "metadata": {},
   "outputs": [
    {
     "data": {
      "text/html": [
       "<div>\n",
       "<style scoped>\n",
       "    .dataframe tbody tr th:only-of-type {\n",
       "        vertical-align: middle;\n",
       "    }\n",
       "\n",
       "    .dataframe tbody tr th {\n",
       "        vertical-align: top;\n",
       "    }\n",
       "\n",
       "    .dataframe thead th {\n",
       "        text-align: right;\n",
       "    }\n",
       "</style>\n",
       "<table border=\"1\" class=\"dataframe\">\n",
       "  <thead>\n",
       "    <tr style=\"text-align: right;\">\n",
       "      <th></th>\n",
       "      <th>test_id</th>\n",
       "      <th>time</th>\n",
       "      <th>PM2.5</th>\n",
       "      <th>PM10</th>\n",
       "      <th>O3</th>\n",
       "    </tr>\n",
       "  </thead>\n",
       "  <tbody>\n",
       "    <tr>\n",
       "      <th>2431</th>\n",
       "      <td>aotizhongxin_aq</td>\n",
       "      <td>2017-04-20 02:00:00</td>\n",
       "      <td>131.0</td>\n",
       "      <td>NaN</td>\n",
       "      <td>26.0</td>\n",
       "    </tr>\n",
       "    <tr>\n",
       "      <th>2432</th>\n",
       "      <td>aotizhongxin_aq</td>\n",
       "      <td>2017-04-20 03:00:00</td>\n",
       "      <td>121.0</td>\n",
       "      <td>NaN</td>\n",
       "      <td>53.0</td>\n",
       "    </tr>\n",
       "    <tr>\n",
       "      <th>2433</th>\n",
       "      <td>aotizhongxin_aq</td>\n",
       "      <td>2017-04-20 04:00:00</td>\n",
       "      <td>33.0</td>\n",
       "      <td>73.0</td>\n",
       "      <td>77.0</td>\n",
       "    </tr>\n",
       "    <tr>\n",
       "      <th>2434</th>\n",
       "      <td>aotizhongxin_aq</td>\n",
       "      <td>2017-04-20 05:00:00</td>\n",
       "      <td>43.0</td>\n",
       "      <td>80.0</td>\n",
       "      <td>94.0</td>\n",
       "    </tr>\n",
       "    <tr>\n",
       "      <th>2435</th>\n",
       "      <td>aotizhongxin_aq</td>\n",
       "      <td>2017-04-20 06:00:00</td>\n",
       "      <td>41.0</td>\n",
       "      <td>135.0</td>\n",
       "      <td>98.0</td>\n",
       "    </tr>\n",
       "  </tbody>\n",
       "</table>\n",
       "</div>"
      ],
      "text/plain": [
       "              test_id                 time  PM2.5   PM10    O3\n",
       "2431  aotizhongxin_aq  2017-04-20 02:00:00  131.0    NaN  26.0\n",
       "2432  aotizhongxin_aq  2017-04-20 03:00:00  121.0    NaN  53.0\n",
       "2433  aotizhongxin_aq  2017-04-20 04:00:00   33.0   73.0  77.0\n",
       "2434  aotizhongxin_aq  2017-04-20 05:00:00   43.0   80.0  94.0\n",
       "2435  aotizhongxin_aq  2017-04-20 06:00:00   41.0  135.0  98.0"
      ]
     },
     "execution_count": 5,
     "metadata": {},
     "output_type": "execute_result"
    }
   ],
   "source": [
    "tmp = getPreviousData('2017-04-20',city='bj')\n",
    "tmp.head()"
   ]
  },
  {
   "cell_type": "markdown",
   "metadata": {},
   "source": [
    "# 輸出答案\n",
    "\n",
    "要預測未來兩天 48小時 的 PM2.5 PM10 O3 \n",
    "\n",
    "> 我想 4/11 送答案就是預測 4/12 ~ 4/13 的空氣品質\n",
    "\n",
    "總共有 48 個點的數值需要預測\n",
    "\n",
    "每個點要有 48 個小時的資料\n",
    "\n",
    "站點包含 北京與倫敦 的點\n",
    "\n",
    "id 格式 站點名#hours"
   ]
  },
  {
   "cell_type": "code",
   "execution_count": 37,
   "metadata": {},
   "outputs": [
    {
     "name": "stdout",
     "output_type": "stream",
     "text": [
      "(2304, 4)\n",
      "48  stations\n"
     ]
    }
   ],
   "source": [
    "sample = pd.read_csv('sample_submission.csv')\n",
    "print(sample.shape)\n",
    "\n",
    "sample_id = sample['test_id']\n",
    "stations = list()\n",
    "for id in sample_id.iloc[:]:\n",
    "    [station, hours] = id.split('#')\n",
    "    if station not in stations:\n",
    "        stations.append(station)\n",
    "print(len(stations), ' stations')"
   ]
  },
  {
   "cell_type": "code",
   "execution_count": 38,
   "metadata": {},
   "outputs": [
    {
     "name": "stdout",
     "output_type": "stream",
     "text": [
      "35  bj stations\n",
      "19  ld stations\n"
     ]
    }
   ],
   "source": [
    "realdata = pd.read_csv(getRealTimeData(day='2018-04-13'))\n",
    "realdata = realdata['station_id']\n",
    "bj_stations = list()\n",
    "for station in realdata.iloc[:]:\n",
    "    if station not in bj_stations:\n",
    "        bj_stations.append(station)\n",
    "\n",
    "print(len(bj_stations), ' bj stations')\n",
    "#print(bj_stations)\n",
    "\n",
    "realdata = pd.read_csv(getRealTimeData(city='ld',day='2018-04-13'))\n",
    "realdata = realdata['station_id']\n",
    "ld_stations = list()\n",
    "for station in realdata.iloc[:]:\n",
    "    if station not in ld_stations:\n",
    "        ld_stations.append(station)\n",
    "\n",
    "print(len(ld_stations), ' ld stations')\n",
    "#print(ld_stations)"
   ]
  },
  {
   "cell_type": "code",
   "execution_count": 6,
   "metadata": {},
   "outputs": [],
   "source": [
    "def injectAnswer(sample, fromDate, answer, formatDate = \"%Y-%m-%d %H:%M:%S\", column=['station_id', 'time', 'PM25_Concentration', 'PM10_Concentration', 'O3_Concentration']):\n",
    "    #formatDate = \"%Y-%m-%d %H:%M:%S\"\n",
    "    fromDate = time.mktime(time.strptime(fromDate, formatDate))\n",
    "    [rows, cols] = answer.shape\n",
    "    for i in range(rows):\n",
    "        data = answer.iloc[i]\n",
    "        thisDate = time.mktime(time.strptime(data[column[1]],formatDate))\n",
    "        thisDate = int((thisDate - fromDate) / (60*60))\n",
    "        thisid = data[column[0]] + '#' + str(thisDate)\n",
    "        sample.loc[sample['test_id'] == thisid, 'PM2.5'] = data[column[2]]\n",
    "        sample.loc[sample['test_id'] == thisid, 'PM10'] = data[column[3]]\n",
    "        if len(column) > 4:\n",
    "            sample.loc[sample['test_id'] == thisid, 'O3'] = data[column[4]]\n",
    "\n",
    "def makeSubmissions(fromDate, force=False):\n",
    "    sample = pd.read_csv('sample_submission.csv')\n",
    "    sample.loc[:, 'PM2.5'] = np.nan\n",
    "    sample.loc[:, 'PM10'] = np.nan\n",
    "    sample.loc[:, 'O3'] = np.nan\n",
    "    \n",
    "    formatDate = \"%Y-%m-%d %H:%M:%S\"\n",
    "    fromDate_t = time.strptime(fromDate,formatDate)\n",
    "    \n",
    "    firstDate = time.strftime(\"%Y-%m-%d\", fromDate_t)\n",
    "    fromDate_t = time.localtime(time.mktime(fromDate_t) + (24*60*60))\n",
    "    secondDate = time.strftime(\"%Y-%m-%d\", fromDate_t)\n",
    "    \n",
    "    realdata = pd.read_csv(getRealTimeData(city='bj',day=firstDate, force=force))\n",
    "    injectAnswer(sample, fromDate, realdata)\n",
    "\n",
    "    realdata = pd.read_csv(getRealTimeData(city='bj',day=secondDate, force=force))\n",
    "    injectAnswer(sample, fromDate, realdata)\n",
    "\n",
    "    realdata = pd.read_csv(getRealTimeData(city='ld',day=firstDate, force=force))\n",
    "    injectAnswer(sample, fromDate, realdata)\n",
    "\n",
    "    realdata = pd.read_csv(getRealTimeData(city='ld',day=secondDate, force=force))\n",
    "    injectAnswer(sample, fromDate, realdata)\n",
    "        \n",
    "    return sample\n",
    "\n",
    "\n",
    "def makePreviousData(today=''):\n",
    "    sample = pd.read_csv('sample_submission.csv')\n",
    "    sample.loc[:, 'PM2.5'] = np.nan\n",
    "    sample.loc[:, 'PM10'] = np.nan\n",
    "    sample.loc[:, 'O3'] = np.nan\n",
    "    \n",
    "    if today == '':\n",
    "        today = time.gmtime(time.time()+24*60*60)\n",
    "        #today.tm_year -= 1\n",
    "        #today = time.strftime(\"%Y-%m-%d\", today)\n",
    "        today_bj = '%d-%d-%d' % (today.tm_year-1, today.tm_mon, today.tm_mday)\n",
    "        today_ld = '%d/%d/%d' % (today.tm_year-1, today.tm_mon, today.tm_mday)\n",
    "        today = '%d-%d-%d' % (today.tm_year-1, today.tm_mon, today.tm_mday)\n",
    "    \n",
    "    #print(today)\n",
    "    previousdata = getPreviousData(today, city='bj')\n",
    "    injectAnswer(sample, today_bj + ' 00:00:00', previousdata, column=previousdata.columns)\n",
    "    \n",
    "    previousdata = getPreviousData(today, city='ld')\n",
    "    injectAnswer(sample, today_ld + ' 00:00', previousdata, formatDate = '%Y/%m/%d %H:%M', column=previousdata.columns)\n",
    "        \n",
    "    return sample, today\n",
    "        \n",
    "def generateAnswer(answer, method='', desc=''):\n",
    "    # remove negative\n",
    "    answer.loc[answer['PM2.5'] <= 0, 'PM2.5'] = np.nan\n",
    "    answer.loc[answer['PM10'] <= 0, 'PM10'] = np.nan\n",
    "    answer.loc[answer['O3'] <= 0, 'O3'] = np.nan\n",
    "    \n",
    "    if method == 'mean':\n",
    "        answer = answer.fillna(answer.mean())\n",
    "    elif method == 'pad':\n",
    "        answer = answer.fillna(method=method)\n",
    "    \n",
    "    todayDate = time.localtime(time.time())\n",
    "    todayDate = time.strftime(\"%m%d\", todayDate)\n",
    "    \n",
    "    answer.to_csv('./answer.csv', index=False, header=True)\n",
    "    \n",
    "    datadir = './answer'\n",
    "    if not os.path.isdir(datadir):\n",
    "        os.mkdir(datadir)\n",
    "    \n",
    "    filename = datadir + '/answer' + todayDate + method\n",
    "    if len(desc) > 0:\n",
    "        filename = filename + '_' +desc\n",
    "    filename = filename + '.csv'\n",
    "    answer.to_csv(filename, index=False, header=True)\n",
    "    \n",
    "    return answer,filename"
   ]
  },
  {
   "cell_type": "code",
   "execution_count": 13,
   "metadata": {},
   "outputs": [
    {
     "data": {
      "text/html": [
       "<div>\n",
       "<style scoped>\n",
       "    .dataframe tbody tr th:only-of-type {\n",
       "        vertical-align: middle;\n",
       "    }\n",
       "\n",
       "    .dataframe tbody tr th {\n",
       "        vertical-align: top;\n",
       "    }\n",
       "\n",
       "    .dataframe thead th {\n",
       "        text-align: right;\n",
       "    }\n",
       "</style>\n",
       "<table border=\"1\" class=\"dataframe\">\n",
       "  <thead>\n",
       "    <tr style=\"text-align: right;\">\n",
       "      <th></th>\n",
       "      <th>test_id</th>\n",
       "      <th>PM2.5</th>\n",
       "      <th>PM10</th>\n",
       "      <th>O3</th>\n",
       "    </tr>\n",
       "  </thead>\n",
       "  <tbody>\n",
       "    <tr>\n",
       "      <th>0</th>\n",
       "      <td>dongsi_aq#0</td>\n",
       "      <td>124.0</td>\n",
       "      <td>NaN</td>\n",
       "      <td>55.0</td>\n",
       "    </tr>\n",
       "    <tr>\n",
       "      <th>1</th>\n",
       "      <td>dongsi_aq#1</td>\n",
       "      <td>92.0</td>\n",
       "      <td>NaN</td>\n",
       "      <td>71.0</td>\n",
       "    </tr>\n",
       "    <tr>\n",
       "      <th>2</th>\n",
       "      <td>dongsi_aq#2</td>\n",
       "      <td>93.0</td>\n",
       "      <td>NaN</td>\n",
       "      <td>72.0</td>\n",
       "    </tr>\n",
       "    <tr>\n",
       "      <th>3</th>\n",
       "      <td>dongsi_aq#3</td>\n",
       "      <td>NaN</td>\n",
       "      <td>NaN</td>\n",
       "      <td>NaN</td>\n",
       "    </tr>\n",
       "    <tr>\n",
       "      <th>4</th>\n",
       "      <td>dongsi_aq#4</td>\n",
       "      <td>85.0</td>\n",
       "      <td>NaN</td>\n",
       "      <td>49.0</td>\n",
       "    </tr>\n",
       "  </tbody>\n",
       "</table>\n",
       "</div>"
      ],
      "text/plain": [
       "       test_id  PM2.5  PM10    O3\n",
       "0  dongsi_aq#0  124.0   NaN  55.0\n",
       "1  dongsi_aq#1   92.0   NaN  71.0\n",
       "2  dongsi_aq#2   93.0   NaN  72.0\n",
       "3  dongsi_aq#3    NaN   NaN   NaN\n",
       "4  dongsi_aq#4   85.0   NaN  49.0"
      ]
     },
     "execution_count": 13,
     "metadata": {},
     "output_type": "execute_result"
    }
   ],
   "source": [
    "fromDate = '2018-04-21 00:00:00'\n",
    "\n",
    "answer_origin = makeSubmissions(fromDate, force=True)\n",
    "answer_origin.head()"
   ]
  },
  {
   "cell_type": "code",
   "execution_count": 14,
   "metadata": {},
   "outputs": [
    {
     "data": {
      "text/html": [
       "<div>\n",
       "<style scoped>\n",
       "    .dataframe tbody tr th:only-of-type {\n",
       "        vertical-align: middle;\n",
       "    }\n",
       "\n",
       "    .dataframe tbody tr th {\n",
       "        vertical-align: top;\n",
       "    }\n",
       "\n",
       "    .dataframe thead th {\n",
       "        text-align: right;\n",
       "    }\n",
       "</style>\n",
       "<table border=\"1\" class=\"dataframe\">\n",
       "  <thead>\n",
       "    <tr style=\"text-align: right;\">\n",
       "      <th></th>\n",
       "      <th>test_id</th>\n",
       "      <th>PM2.5</th>\n",
       "      <th>PM10</th>\n",
       "      <th>O3</th>\n",
       "    </tr>\n",
       "  </thead>\n",
       "  <tbody>\n",
       "    <tr>\n",
       "      <th>0</th>\n",
       "      <td>dongsi_aq#0</td>\n",
       "      <td>124.0</td>\n",
       "      <td>7.0</td>\n",
       "      <td>55.0</td>\n",
       "    </tr>\n",
       "    <tr>\n",
       "      <th>1</th>\n",
       "      <td>dongsi_aq#1</td>\n",
       "      <td>92.0</td>\n",
       "      <td>NaN</td>\n",
       "      <td>71.0</td>\n",
       "    </tr>\n",
       "    <tr>\n",
       "      <th>2</th>\n",
       "      <td>dongsi_aq#2</td>\n",
       "      <td>93.0</td>\n",
       "      <td>NaN</td>\n",
       "      <td>72.0</td>\n",
       "    </tr>\n",
       "    <tr>\n",
       "      <th>3</th>\n",
       "      <td>dongsi_aq#3</td>\n",
       "      <td>NaN</td>\n",
       "      <td>NaN</td>\n",
       "      <td>NaN</td>\n",
       "    </tr>\n",
       "    <tr>\n",
       "      <th>4</th>\n",
       "      <td>dongsi_aq#4</td>\n",
       "      <td>85.0</td>\n",
       "      <td>NaN</td>\n",
       "      <td>49.0</td>\n",
       "    </tr>\n",
       "  </tbody>\n",
       "</table>\n",
       "</div>"
      ],
      "text/plain": [
       "       test_id  PM2.5  PM10    O3\n",
       "0  dongsi_aq#0  124.0   7.0  55.0\n",
       "1  dongsi_aq#1   92.0   NaN  71.0\n",
       "2  dongsi_aq#2   93.0   NaN  72.0\n",
       "3  dongsi_aq#3    NaN   NaN   NaN\n",
       "4  dongsi_aq#4   85.0   NaN  49.0"
      ]
     },
     "execution_count": 14,
     "metadata": {},
     "output_type": "execute_result"
    }
   ],
   "source": [
    "answer_origin.loc[0,'PM10'] = 7.0\n",
    "answer_origin.head()"
   ]
  },
  {
   "cell_type": "code",
   "execution_count": 16,
   "metadata": {},
   "outputs": [
    {
     "name": "stdout",
     "output_type": "stream",
     "text": [
      "./answer/answer0423pad_2122.csv\n"
     ]
    },
    {
     "data": {
      "text/html": [
       "<div>\n",
       "<style scoped>\n",
       "    .dataframe tbody tr th:only-of-type {\n",
       "        vertical-align: middle;\n",
       "    }\n",
       "\n",
       "    .dataframe tbody tr th {\n",
       "        vertical-align: top;\n",
       "    }\n",
       "\n",
       "    .dataframe thead th {\n",
       "        text-align: right;\n",
       "    }\n",
       "</style>\n",
       "<table border=\"1\" class=\"dataframe\">\n",
       "  <thead>\n",
       "    <tr style=\"text-align: right;\">\n",
       "      <th></th>\n",
       "      <th>test_id</th>\n",
       "      <th>PM2.5</th>\n",
       "      <th>PM10</th>\n",
       "      <th>O3</th>\n",
       "    </tr>\n",
       "  </thead>\n",
       "  <tbody>\n",
       "    <tr>\n",
       "      <th>0</th>\n",
       "      <td>dongsi_aq#0</td>\n",
       "      <td>124.0</td>\n",
       "      <td>7.0</td>\n",
       "      <td>55.0</td>\n",
       "    </tr>\n",
       "    <tr>\n",
       "      <th>1</th>\n",
       "      <td>dongsi_aq#1</td>\n",
       "      <td>92.0</td>\n",
       "      <td>7.0</td>\n",
       "      <td>71.0</td>\n",
       "    </tr>\n",
       "    <tr>\n",
       "      <th>2</th>\n",
       "      <td>dongsi_aq#2</td>\n",
       "      <td>93.0</td>\n",
       "      <td>7.0</td>\n",
       "      <td>72.0</td>\n",
       "    </tr>\n",
       "    <tr>\n",
       "      <th>3</th>\n",
       "      <td>dongsi_aq#3</td>\n",
       "      <td>93.0</td>\n",
       "      <td>7.0</td>\n",
       "      <td>72.0</td>\n",
       "    </tr>\n",
       "    <tr>\n",
       "      <th>4</th>\n",
       "      <td>dongsi_aq#4</td>\n",
       "      <td>85.0</td>\n",
       "      <td>7.0</td>\n",
       "      <td>49.0</td>\n",
       "    </tr>\n",
       "  </tbody>\n",
       "</table>\n",
       "</div>"
      ],
      "text/plain": [
       "       test_id  PM2.5  PM10    O3\n",
       "0  dongsi_aq#0  124.0   7.0  55.0\n",
       "1  dongsi_aq#1   92.0   7.0  71.0\n",
       "2  dongsi_aq#2   93.0   7.0  72.0\n",
       "3  dongsi_aq#3   93.0   7.0  72.0\n",
       "4  dongsi_aq#4   85.0   7.0  49.0"
      ]
     },
     "execution_count": 16,
     "metadata": {},
     "output_type": "execute_result"
    }
   ],
   "source": [
    "answer,filename = generateAnswer(answer_origin, method='pad',desc='2122')\n",
    "print(filename)\n",
    "answer.head()"
   ]
  },
  {
   "cell_type": "code",
   "execution_count": 17,
   "metadata": {},
   "outputs": [
    {
     "name": "stdout",
     "output_type": "stream",
     "text": [
      "2017-4-24\n"
     ]
    },
    {
     "data": {
      "text/html": [
       "<div>\n",
       "<style scoped>\n",
       "    .dataframe tbody tr th:only-of-type {\n",
       "        vertical-align: middle;\n",
       "    }\n",
       "\n",
       "    .dataframe tbody tr th {\n",
       "        vertical-align: top;\n",
       "    }\n",
       "\n",
       "    .dataframe thead th {\n",
       "        text-align: right;\n",
       "    }\n",
       "</style>\n",
       "<table border=\"1\" class=\"dataframe\">\n",
       "  <thead>\n",
       "    <tr style=\"text-align: right;\">\n",
       "      <th></th>\n",
       "      <th>test_id</th>\n",
       "      <th>PM2.5</th>\n",
       "      <th>PM10</th>\n",
       "      <th>O3</th>\n",
       "    </tr>\n",
       "  </thead>\n",
       "  <tbody>\n",
       "    <tr>\n",
       "      <th>0</th>\n",
       "      <td>dongsi_aq#0</td>\n",
       "      <td>NaN</td>\n",
       "      <td>NaN</td>\n",
       "      <td>NaN</td>\n",
       "    </tr>\n",
       "    <tr>\n",
       "      <th>1</th>\n",
       "      <td>dongsi_aq#1</td>\n",
       "      <td>34.0</td>\n",
       "      <td>39.0</td>\n",
       "      <td>82.0</td>\n",
       "    </tr>\n",
       "    <tr>\n",
       "      <th>2</th>\n",
       "      <td>dongsi_aq#2</td>\n",
       "      <td>23.0</td>\n",
       "      <td>98.0</td>\n",
       "      <td>103.0</td>\n",
       "    </tr>\n",
       "    <tr>\n",
       "      <th>3</th>\n",
       "      <td>dongsi_aq#3</td>\n",
       "      <td>19.0</td>\n",
       "      <td>NaN</td>\n",
       "      <td>115.0</td>\n",
       "    </tr>\n",
       "    <tr>\n",
       "      <th>4</th>\n",
       "      <td>dongsi_aq#4</td>\n",
       "      <td>19.0</td>\n",
       "      <td>270.0</td>\n",
       "      <td>118.0</td>\n",
       "    </tr>\n",
       "  </tbody>\n",
       "</table>\n",
       "</div>"
      ],
      "text/plain": [
       "       test_id  PM2.5   PM10     O3\n",
       "0  dongsi_aq#0    NaN    NaN    NaN\n",
       "1  dongsi_aq#1   34.0   39.0   82.0\n",
       "2  dongsi_aq#2   23.0   98.0  103.0\n",
       "3  dongsi_aq#3   19.0    NaN  115.0\n",
       "4  dongsi_aq#4   19.0  270.0  118.0"
      ]
     },
     "execution_count": 17,
     "metadata": {},
     "output_type": "execute_result"
    }
   ],
   "source": [
    "[previous, pToday] = makePreviousData()\n",
    "print(pToday)\n",
    "previous.to_csv('./previous.csv')\n",
    "previous.head()"
   ]
  },
  {
   "cell_type": "code",
   "execution_count": 18,
   "metadata": {},
   "outputs": [
    {
     "data": {
      "text/html": [
       "<div>\n",
       "<style scoped>\n",
       "    .dataframe tbody tr th:only-of-type {\n",
       "        vertical-align: middle;\n",
       "    }\n",
       "\n",
       "    .dataframe tbody tr th {\n",
       "        vertical-align: top;\n",
       "    }\n",
       "\n",
       "    .dataframe thead th {\n",
       "        text-align: right;\n",
       "    }\n",
       "</style>\n",
       "<table border=\"1\" class=\"dataframe\">\n",
       "  <thead>\n",
       "    <tr style=\"text-align: right;\">\n",
       "      <th></th>\n",
       "      <th>test_id</th>\n",
       "      <th>PM2.5</th>\n",
       "      <th>PM10</th>\n",
       "      <th>O3</th>\n",
       "    </tr>\n",
       "  </thead>\n",
       "  <tbody>\n",
       "    <tr>\n",
       "      <th>0</th>\n",
       "      <td>dongsi_aq#0</td>\n",
       "      <td>124.0</td>\n",
       "      <td>7.0</td>\n",
       "      <td>55.0</td>\n",
       "    </tr>\n",
       "    <tr>\n",
       "      <th>1</th>\n",
       "      <td>dongsi_aq#1</td>\n",
       "      <td>34.0</td>\n",
       "      <td>39.0</td>\n",
       "      <td>82.0</td>\n",
       "    </tr>\n",
       "    <tr>\n",
       "      <th>2</th>\n",
       "      <td>dongsi_aq#2</td>\n",
       "      <td>23.0</td>\n",
       "      <td>98.0</td>\n",
       "      <td>103.0</td>\n",
       "    </tr>\n",
       "    <tr>\n",
       "      <th>3</th>\n",
       "      <td>dongsi_aq#3</td>\n",
       "      <td>19.0</td>\n",
       "      <td>NaN</td>\n",
       "      <td>115.0</td>\n",
       "    </tr>\n",
       "    <tr>\n",
       "      <th>4</th>\n",
       "      <td>dongsi_aq#4</td>\n",
       "      <td>19.0</td>\n",
       "      <td>270.0</td>\n",
       "      <td>118.0</td>\n",
       "    </tr>\n",
       "  </tbody>\n",
       "</table>\n",
       "</div>"
      ],
      "text/plain": [
       "       test_id  PM2.5   PM10     O3\n",
       "0  dongsi_aq#0  124.0    7.0   55.0\n",
       "1  dongsi_aq#1   34.0   39.0   82.0\n",
       "2  dongsi_aq#2   23.0   98.0  103.0\n",
       "3  dongsi_aq#3   19.0    NaN  115.0\n",
       "4  dongsi_aq#4   19.0  270.0  118.0"
      ]
     },
     "execution_count": 18,
     "metadata": {},
     "output_type": "execute_result"
    }
   ],
   "source": [
    "previous_combine = previous.combine_first(answer_origin)\n",
    "previous_combine.to_csv('./previous_cobine_api.csv')\n",
    "previous_combine.head()"
   ]
  },
  {
   "cell_type": "code",
   "execution_count": 20,
   "metadata": {},
   "outputs": [
    {
     "name": "stdout",
     "output_type": "stream",
     "text": [
      "./answer/answer0423pad_lastyear0423-0424 combine 0420-0421.csv\n"
     ]
    },
    {
     "data": {
      "text/html": [
       "<div>\n",
       "<style scoped>\n",
       "    .dataframe tbody tr th:only-of-type {\n",
       "        vertical-align: middle;\n",
       "    }\n",
       "\n",
       "    .dataframe tbody tr th {\n",
       "        vertical-align: top;\n",
       "    }\n",
       "\n",
       "    .dataframe thead th {\n",
       "        text-align: right;\n",
       "    }\n",
       "</style>\n",
       "<table border=\"1\" class=\"dataframe\">\n",
       "  <thead>\n",
       "    <tr style=\"text-align: right;\">\n",
       "      <th></th>\n",
       "      <th>test_id</th>\n",
       "      <th>PM2.5</th>\n",
       "      <th>PM10</th>\n",
       "      <th>O3</th>\n",
       "    </tr>\n",
       "  </thead>\n",
       "  <tbody>\n",
       "    <tr>\n",
       "      <th>0</th>\n",
       "      <td>dongsi_aq#0</td>\n",
       "      <td>124.0</td>\n",
       "      <td>7.0</td>\n",
       "      <td>55.0</td>\n",
       "    </tr>\n",
       "    <tr>\n",
       "      <th>1</th>\n",
       "      <td>dongsi_aq#1</td>\n",
       "      <td>34.0</td>\n",
       "      <td>39.0</td>\n",
       "      <td>82.0</td>\n",
       "    </tr>\n",
       "    <tr>\n",
       "      <th>2</th>\n",
       "      <td>dongsi_aq#2</td>\n",
       "      <td>23.0</td>\n",
       "      <td>98.0</td>\n",
       "      <td>103.0</td>\n",
       "    </tr>\n",
       "    <tr>\n",
       "      <th>3</th>\n",
       "      <td>dongsi_aq#3</td>\n",
       "      <td>19.0</td>\n",
       "      <td>98.0</td>\n",
       "      <td>115.0</td>\n",
       "    </tr>\n",
       "    <tr>\n",
       "      <th>4</th>\n",
       "      <td>dongsi_aq#4</td>\n",
       "      <td>19.0</td>\n",
       "      <td>270.0</td>\n",
       "      <td>118.0</td>\n",
       "    </tr>\n",
       "  </tbody>\n",
       "</table>\n",
       "</div>"
      ],
      "text/plain": [
       "       test_id  PM2.5   PM10     O3\n",
       "0  dongsi_aq#0  124.0    7.0   55.0\n",
       "1  dongsi_aq#1   34.0   39.0   82.0\n",
       "2  dongsi_aq#2   23.0   98.0  103.0\n",
       "3  dongsi_aq#3   19.0   98.0  115.0\n",
       "4  dongsi_aq#4   19.0  270.0  118.0"
      ]
     },
     "execution_count": 20,
     "metadata": {},
     "output_type": "execute_result"
    }
   ],
   "source": [
    "answer, filename = generateAnswer(previous_combine, method='pad', desc='lastyear0423-0424 combine 0420-0421')\n",
    "print(filename)\n",
    "answer.head()"
   ]
  },
  {
   "cell_type": "markdown",
   "metadata": {},
   "source": [
    "# 送出答案"
   ]
  },
  {
   "cell_type": "code",
   "execution_count": 21,
   "metadata": {},
   "outputs": [
    {
     "name": "stdout",
     "output_type": "stream",
     "text": [
      "{\"success\": true}\n"
     ]
    }
   ],
   "source": [
    "from api_submit import sendSubmission\n",
    "\n",
    "print(sendSubmission(answerfile=filename, name='answer.csv', desc=filename))"
   ]
  },
  {
   "cell_type": "markdown",
   "metadata": {},
   "source": [
    "# 思考策略\n",
    "\n",
    "先考慮如何建立模型\n",
    "\n",
    "輸入是歷史資料, 輸出則是兩天的未來預測\n",
    "\n",
    "考慮到訓練參數出來\n",
    "\n",
    "把一年的歷史資料 分成訓練與測試\n",
    "\n"
   ]
  },
  {
   "cell_type": "code",
   "execution_count": null,
   "metadata": {},
   "outputs": [],
   "source": []
  },
  {
   "cell_type": "markdown",
   "metadata": {},
   "source": [
    "# SMAPE\n",
    "\n",
    "計分方式"
   ]
  },
  {
   "cell_type": "code",
   "execution_count": 114,
   "metadata": {},
   "outputs": [],
   "source": [
    "import math\n",
    "\n",
    "def SMAPE(actual=list(), forecast=list()):\n",
    "    if len(actual)!=len(forecast):\n",
    "        return 2\n",
    "    \n",
    "    total = 0\n",
    "    total_len = 0\n",
    "    for i in actual.index:\n",
    "        if math.isnan(actual[i]) or math.isnan(forecast[i]):\n",
    "            continue\n",
    "        tmp = (abs(forecast[i]) + abs(actual[i]))/2\n",
    "        if tmp != 0:\n",
    "            tmp = abs(forecast[i] - actual[i]) / tmp\n",
    "        total += tmp\n",
    "        total_len += 1\n",
    "    \n",
    "    #print(total,',',total_len)\n",
    "    \n",
    "    if total_len == 0:\n",
    "        answer = 0\n",
    "    else:\n",
    "        answer = total / total_len\n",
    "        \n",
    "    return answer\n",
    "\n",
    "def smape(actual, predicted):\n",
    "    dividend= np.abs(np.array(actual) - np.array(predicted))\n",
    "    denominator = np.abs(np.array(actual)) + np.abs(np.array(predicted))\n",
    "    \n",
    "    return 2 * np.mean(np.divide(dividend, denominator, out=np.zeros_like(dividend), where=denominator!=0, casting='unsafe'))"
   ]
  },
  {
   "cell_type": "code",
   "execution_count": 56,
   "metadata": {},
   "outputs": [
    {
     "data": {
      "text/plain": [
       "0.5555555555555555"
      ]
     },
     "execution_count": 56,
     "metadata": {},
     "output_type": "execute_result"
    }
   ],
   "source": [
    "SMAPE([1,2,3],[1,1,1])"
   ]
  },
  {
   "cell_type": "code",
   "execution_count": 69,
   "metadata": {},
   "outputs": [
    {
     "data": {
      "text/plain": [
       "0.55555555555555547"
      ]
     },
     "execution_count": 69,
     "metadata": {},
     "output_type": "execute_result"
    }
   ],
   "source": [
    "smape([1.0,2.0,3.0], [1.0,1.0,1.0])"
   ]
  },
  {
   "cell_type": "code",
   "execution_count": 78,
   "metadata": {},
   "outputs": [],
   "source": [
    "actualData = makeSubmissions('2018-04-15 00:00:00',force=True)"
   ]
  },
  {
   "cell_type": "code",
   "execution_count": 110,
   "metadata": {},
   "outputs": [
    {
     "name": "stdout",
     "output_type": "stream",
     "text": [
      "(1165, 4)\n"
     ]
    }
   ],
   "source": [
    "actualData2 = actualData.dropna(axis=0,how='any')"
   ]
  },
  {
   "cell_type": "code",
   "execution_count": 116,
   "metadata": {},
   "outputs": [
    {
     "name": "stdout",
     "output_type": "stream",
     "text": [
      "PM2.5 : 0.693784236971\n",
      "PM10 : 0.758121816806\n",
      "O3 : 0.715826464322\n"
     ]
    }
   ],
   "source": [
    "actualData2 = actualData.dropna(axis=0,how='any')\n",
    "forecastData = pd.read_csv('./answer/answer0414mean.csv')\n",
    "forecastData = forecastData.fillna(0)\n",
    "forecastData = forecastData.loc[actualData2.index,:]\n",
    "\n",
    "a1 = SMAPE(actualData2['PM2.5'].loc[:],forecastData['PM2.5'].loc[:])\n",
    "a2 = SMAPE(actualData2['PM10'].loc[:],forecastData['PM10'].loc[:])\n",
    "a3 = SMAPE(actualData2['O3'].loc[:],forecastData['O3'].loc[:])\n",
    "\n",
    "print('PM2.5 :',a1)\n",
    "print('PM10 :',a2)\n",
    "print('O3 :',a3)"
   ]
  },
  {
   "cell_type": "code",
   "execution_count": null,
   "metadata": {},
   "outputs": [],
   "source": []
  }
 ],
 "metadata": {
  "kernelspec": {
   "display_name": "Python 3",
   "language": "python",
   "name": "python3"
  },
  "language_info": {
   "codemirror_mode": {
    "name": "ipython",
    "version": 3
   },
   "file_extension": ".py",
   "mimetype": "text/x-python",
   "name": "python",
   "nbconvert_exporter": "python",
   "pygments_lexer": "ipython3",
   "version": "3.6.4"
  }
 },
 "nbformat": 4,
 "nbformat_minor": 2
}
